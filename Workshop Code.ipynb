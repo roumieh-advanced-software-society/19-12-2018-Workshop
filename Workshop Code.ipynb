{
 "cells": [
  {
   "cell_type": "markdown",
   "metadata": {},
   "source": [
    "You can download Python for Windows, OS X, and Ubuntu for free from The python official website [here](http://python.org/downloads/). If you download the latest version from the website’s download page, all of the programs in this course should work."
   ]
  },
  {
   "cell_type": "markdown",
   "metadata": {},
   "source": [
    "You’ll find Python installers for 64-bit and 32-bit computers for each operating system on the download page, so first figure out which installer you need. If you bought your computer in 2007 or later, it is most likely a 64-bit system"
   ]
  },
  {
   "cell_type": "markdown",
   "metadata": {},
   "source": [
    "While the Python interpreter is the software that runs your Python programs, the interactive development environment (IDLE) software is where you’ll enter your programs, much like a word processor. Let’s start IDLE now.\n",
    "##### The interactive shell (IDLE)\n",
    "No matter which operating system you’re running, the IDLE window should appear like this:\n",
    "![IDLE](IDLE.jpg)\n",
    "\n",
    "This window is called the interactive shell. A shell is a program that lets you type instructions into the computer, much like the Terminal or Command Prompt on OS X and Windows, respectively. Python’s interactive shell lets you enter instructions for the Python interpreter software to run. The computer reads the instructions you enter and runs them immediately."
   ]
  },
  {
   "cell_type": "markdown",
   "metadata": {},
   "source": [
    "**Whenever in this document you see >>> before a statement, then it should be written in the shell, whenever you don't then it wil be better to make a new file (file -> new file) and write down the code within that and run it using F5**"
   ]
  },
  {
   "cell_type": "markdown",
   "metadata": {},
   "source": [
    "# Introduction : Why Python?\n"
   ]
  },
  {
   "cell_type": "markdown",
   "metadata": {},
   "source": [
    "<h1>1 : Python Basics</h1>"
   ]
  },
  {
   "cell_type": "markdown",
   "metadata": {},
   "source": [
    "## Variables \n",
    "A _data type_ is a category for values. Just like most other programming languages, python has three 'basic'(called primitive) data types:\n",
    "- Integers (int)\n",
    "- Floats (float)\n",
    "- Strings (str)\n",
    "\n",
    "For those of you who only know C/C++ a string is a text value like _Hello_ or a name or a full sentence, or anything that you want. __Always surround your strings with single quotes ' ' or double quotes \" \"__ , that's how the python interpreter knows it's a string.\n",
    "\n",
    "A _variable_, as you all know, can store a single value of any data type.\n",
    "In Python, when creating a variable, you don't need to specify what type it is, the interpreter knows this alone (how cool is that?)\n",
    "\n",
    "Let's see all that, open the IDLE shell and type those commads one by one:"
   ]
  },
  {
   "cell_type": "code",
   "execution_count": 7,
   "metadata": {},
   "outputs": [
    {
     "data": {
      "text/plain": [
       "'Hello World!'"
      ]
     },
     "execution_count": 7,
     "metadata": {},
     "output_type": "execute_result"
    }
   ],
   "source": [
    ">>> 'Hello World!' #Here, we are  just trying to type a random string \n",
    "#Oh and btw, this is how a comment is written in python, it starts with a # and the rest of the line is considered a comment\n",
    "#just like the // in C"
   ]
  },
  {
   "cell_type": "code",
   "execution_count": 3,
   "metadata": {},
   "outputs": [
    {
     "data": {
      "text/plain": [
       "42"
      ]
     },
     "execution_count": 3,
     "metadata": {},
     "output_type": "execute_result"
    }
   ],
   "source": [
    ">>> variale1 = 42\n",
    ">>> variable1"
   ]
  },
  {
   "cell_type": "code",
   "execution_count": 5,
   "metadata": {},
   "outputs": [
    {
     "data": {
      "text/plain": [
       "'a testing string'"
      ]
     },
     "execution_count": 5,
     "metadata": {},
     "output_type": "execute_result"
    }
   ],
   "source": [
    ">>> variable2 = \"a testing string\"\n",
    ">>> variable2"
   ]
  },
  {
   "cell_type": "markdown",
   "metadata": {},
   "source": [
    "Nothing new for you so far I'm sure, but here's something that is gonna be new: \n",
    "\n",
    "In python, a variable can change types!\n",
    "\n",
    "See that for yourself in the shell:"
   ]
  },
  {
   "cell_type": "code",
   "execution_count": 8,
   "metadata": {
    "collapsed": true
   },
   "outputs": [
    {
     "data": {
      "text/plain": [
       "'Hello Roumieh'"
      ]
     },
     "execution_count": 8,
     "metadata": {},
     "output_type": "execute_result"
    }
   ],
   "source": [
    ">>> spam = 42\n",
    ">>> spam\n",
    "42\n",
    ">>> spam = 65.4\n",
    ">>> spam + 1\n",
    "66.4\n",
    ">>> spam = 'Hello Roumieh'\n",
    "'Hello Roumieh'"
   ]
  },
  {
   "cell_type": "markdown",
   "metadata": {},
   "source": [
    "## A first program:\n",
    "Remember to write this one in a _new file_ "
   ]
  },
  {
   "cell_type": "code",
   "execution_count": 1,
   "metadata": {},
   "outputs": [
    {
     "name": "stdout",
     "output_type": "stream",
     "text": [
      "Hello World!\n",
      "What is your name?\n",
      "Charbel\n",
      "It is good to meet you Charbel\n",
      "The length of your name is: 7\n",
      "What is your age?\n",
      "18\n",
      "You will be 19 in a year.\n"
     ]
    }
   ],
   "source": [
    "# This program says hello and asks for my name.\n",
    "print('Hello World!')\n",
    "print('What is your name?') #ask for the user's name\n",
    "myName = input()\n",
    "print('It is good to meet you ' + myName)\n",
    "print('The length of your name is: ' + str(len(myName)))\n",
    "print('What is your age?')    # ask for their age \n",
    "myAge = input() \n",
    "print('You will be ' + str(int(myAge) + 1) + ' in a year.')"
   ]
  },
  {
   "cell_type": "markdown",
   "metadata": {},
   "source": [
    "**Let's analyze what we used in this program:**\n",
    "### The print() function \n",
    "Just like `printf()` or `cout()`, the `print()` function will display on the screen whatever is in the parentheses, we use '' to pass the string that we want to display to the function.Every `print()` function will automatically start on the next line. That's what we did in the first 2 lines of code.(Try diiferent stuff in the shell to get a feel of it)\n",
    "### The input() function\n",
    "This one is like `scanf()` or `cin()`, it takes whatever the user types as input, **the input is taken and stored as a string, even if the user enters only an integer.**\n",
    "### The len() function\n",
    "This one is simple, you pass a string to the `len()` function and it returns the number of characters in that string as an integer (try it for yourself in the shell with different strings, like: `len('Hello')` or `len('My name is ...')`)\n",
    "### The str(), int() and float() functions\n",
    "Those functions simply convert the values you give to them in the specified type. Writing `str(42)` will give you as output `'42'` which is the string 42 not the number 42. Again, try some for yourselves in the shell.\n",
    "\n",
    "**Why did we use the `str()` function in our code?**\n",
    "Because, using the + operator, you can only add two integers or join two strings. You can't add a number to a string. The `len()` function returns an int, so to join it to the former string in the print statement we have to convert it to a string.\n",
    "\n",
    "**Why did we use the `int()` function in our code?**\n",
    "Because if you go back to the `input()` function, you'll see that it reads every user input as a string, so to use the input as as an int or a float, we have to convert it. As with the rest, you are invited to try examples of this in the shell. "
   ]
  },
  {
   "cell_type": "markdown",
   "metadata": {},
   "source": [
    "You can now go back to the code and re-read everything and analyze the syntax for yourself and try to modify it."
   ]
  },
  {
   "cell_type": "markdown",
   "metadata": {},
   "source": [
    "<h1>2 : Flow Control</h1>"
   ]
  },
  {
   "cell_type": "markdown",
   "metadata": {},
   "source": [
    "<h2>Elements of flow control</h2>\n",
    "<ul><li> Conditions</li>\n",
    "    <li> Blocks of code (indentation) </li>\n",
    "    <li> Types of statements (if, for...) </li></ul>\n",
    "Pressing cntrl+c to get out of an infinite loop"
   ]
  },
  {
   "cell_type": "markdown",
   "metadata": {},
   "source": [
    "### Blocks of code\n",
    "Blocks of Code Lines of Python code can be grouped together in blocks. You can tell when a block begins and ends from the indentation of the lines of code. There are three rules for blocks.\n",
    "1. Blocks begin when the indentation increases.\n",
    "2. Blocks can contain other blocks.\n",
    "3. Blocks end when the indentation decreases to zero or to a containing block’s indentation."
   ]
  },
  {
   "cell_type": "markdown",
   "metadata": {},
   "source": [
    "Example:"
   ]
  },
  {
   "cell_type": "code",
   "execution_count": 33,
   "metadata": {},
   "outputs": [],
   "source": [
    "if name == 'Mary':    #First block of code\n",
    "    print('Hello Mary')   \n",
    "    if password == 'swordfish': #A nested block of code\n",
    "        print('Access granted.')   \n",
    "    else: \n",
    "        print('Wrong password.')"
   ]
  },
  {
   "cell_type": "markdown",
   "metadata": {},
   "source": [
    "## The if statement\n",
    "Structure of an `if` statement:\n",
    "1. The `if` keyword\n",
    "2. The condition to be evaluated (no parenthesis needed)\n",
    "3. The block of code, **every line should be indented with a `Tab`**. This block of code is called _clause_.\n",
    "4. When done, just start typing back at the beginning of the line, the interpreter will know you're now out of the if clause. "
   ]
  },
  {
   "cell_type": "code",
   "execution_count": 35,
   "metadata": {
    "collapsed": true
   },
   "outputs": [
    {
     "ename": "NameError",
     "evalue": "name 'age' is not defined",
     "output_type": "error",
     "traceback": [
      "\u001b[1;31m---------------------------------------------------------------------------\u001b[0m",
      "\u001b[1;31mNameError\u001b[0m                                 Traceback (most recent call last)",
      "\u001b[1;32m<ipython-input-35-80a1358d6b3b>\u001b[0m in \u001b[0;36m<module>\u001b[1;34m()\u001b[0m\n\u001b[0;32m      1\u001b[0m \u001b[1;32mif\u001b[0m \u001b[0mname\u001b[0m \u001b[1;33m==\u001b[0m \u001b[1;34m'Alice'\u001b[0m\u001b[1;33m:\u001b[0m\u001b[1;33m\u001b[0m\u001b[0m\n\u001b[0;32m      2\u001b[0m     \u001b[0mprint\u001b[0m\u001b[1;33m(\u001b[0m\u001b[1;34m'Hi, Alice.'\u001b[0m\u001b[1;33m)\u001b[0m\u001b[1;33m\u001b[0m\u001b[0m\n\u001b[1;32m----> 3\u001b[1;33m \u001b[1;32melif\u001b[0m \u001b[0mage\u001b[0m \u001b[1;33m<\u001b[0m \u001b[1;36m12\u001b[0m\u001b[1;33m:\u001b[0m\u001b[1;33m\u001b[0m\u001b[0m\n\u001b[0m\u001b[0;32m      4\u001b[0m     \u001b[0mprint\u001b[0m\u001b[1;33m(\u001b[0m\u001b[1;34m'You are not Alice, kiddo.'\u001b[0m\u001b[1;33m)\u001b[0m\u001b[1;33m\u001b[0m\u001b[0m\n\u001b[0;32m      5\u001b[0m \u001b[1;32melif\u001b[0m \u001b[0mage\u001b[0m \u001b[1;33m>\u001b[0m \u001b[1;36m2000\u001b[0m\u001b[1;33m:\u001b[0m\u001b[1;33m\u001b[0m\u001b[0m\n",
      "\u001b[1;31mNameError\u001b[0m: name 'age' is not defined"
     ]
    }
   ],
   "source": [
    "if name == 'Alice':\n",
    "    print('Hi, Alice.') \n",
    "elif age < 12:   \n",
    "    print('You are not Alice, kiddo.') \n",
    "elif age > 2000:   \n",
    "    print('Unlike you, Alice is not an undead, immortal vampire.')\n",
    "elif age > 100:\n",
    "    print('You are not Alice, grannie.')"
   ]
  },
  {
   "cell_type": "markdown",
   "metadata": {},
   "source": [
    "In python instead of using &&, you type **and**. It's the same for **or** and **not**. But you can still use the ones you're used to, if you want."
   ]
  },
  {
   "cell_type": "markdown",
   "metadata": {},
   "source": [
    "## The While statement"
   ]
  },
  {
   "cell_type": "markdown",
   "metadata": {},
   "source": [
    "The structure of a `while` statement is similar to that of an `if` statement as you'll see:"
   ]
  },
  {
   "cell_type": "code",
   "execution_count": 9,
   "metadata": {},
   "outputs": [
    {
     "name": "stdout",
     "output_type": "stream",
     "text": [
      "Hello, world.\n",
      "Hello, world.\n",
      "Hello, world.\n",
      "Hello, world.\n",
      "Hello, world.\n"
     ]
    }
   ],
   "source": [
    "spam = 0 \n",
    "while spam < 5:    #while spam is less than 5, this will execute the indented block of code\n",
    "    print('Hello, world.')    \n",
    "    spam = spam + 1"
   ]
  },
  {
   "cell_type": "markdown",
   "metadata": {},
   "source": [
    "#### Careful not to get in an infinite loop unless on purpose!"
   ]
  },
  {
   "cell_type": "code",
   "execution_count": 2,
   "metadata": {},
   "outputs": [
    {
     "name": "stdout",
     "output_type": "stream",
     "text": [
      "Who are you?\n",
      "Joe\n",
      "Hello Joe, what is the password? (Hint: It is a fish)\n",
      "swordfish\n",
      "Access granted\n"
     ]
    }
   ],
   "source": [
    "while True:               #This one is on purpose though\n",
    "    print('Who are you?')\n",
    "    name = input()\n",
    "    if name != 'Joe':\n",
    "        continue\n",
    "    print('Hello Joe, what is the password? (Hint: It is a fish)')\n",
    "    password = input()\n",
    "    if password == 'swordfish' :\n",
    "        break\n",
    "print('Access granted')"
   ]
  },
  {
   "cell_type": "markdown",
   "metadata": {},
   "source": [
    "### The `break` and `continue` statements\n",
    "You probably know what these do already, the `break` statment stops the execution of the loop and exits out of it, while the `continue` statement restarts it from the top."
   ]
  },
  {
   "cell_type": "markdown",
   "metadata": {},
   "source": [
    "### Trapped in an infinite loop?\n",
    "If you ever run a program that has a bug causing it to get stuck in an infinite loop, press ctrl-C . This will send a KeyboardInterrupt error to your program and cause it to stop immediately. Try it! "
   ]
  },
  {
   "cell_type": "markdown",
   "metadata": {},
   "source": [
    "## The for and range() statements"
   ]
  },
  {
   "cell_type": "code",
   "execution_count": 37,
   "metadata": {},
   "outputs": [
    {
     "name": "stdout",
     "output_type": "stream",
     "text": [
      "My name is\n",
      "Jimmy Five Times (0)\n",
      "Jimmy Five Times (1)\n",
      "Jimmy Five Times (2)\n",
      "Jimmy Five Times (3)\n",
      "Jimmy Five Times (4)\n"
     ]
    }
   ],
   "source": [
    "print('My name is') \n",
    "for i in range(0, 5, 1):    \n",
    "    print('Jimmy Five Times (' + str(i) + ')')"
   ]
  },
  {
   "cell_type": "code",
   "execution_count": 38,
   "metadata": {},
   "outputs": [
    {
     "name": "stdout",
     "output_type": "stream",
     "text": [
      "5050\n"
     ]
    }
   ],
   "source": [
    "#The sum of all numbers from 1 to 100 is equal to 5050, let's test that!\n",
    "total = 0\n",
    "for num in range (101):\n",
    "    total += num\n",
    "print(total)"
   ]
  },
  {
   "cell_type": "markdown",
   "metadata": {},
   "source": [
    "<h2> Importing modules </h2> \n",
    "We import modules in python using the import keyword.\n",
    "Let's try importing the the 'random' module and look at one of its fuctions"
   ]
  },
  {
   "cell_type": "code",
   "execution_count": 4,
   "metadata": {},
   "outputs": [
    {
     "name": "stdout",
     "output_type": "stream",
     "text": [
      "2\n",
      "1\n",
      "8\n",
      "5\n",
      "9\n"
     ]
    }
   ],
   "source": [
    "import random\n",
    "for i in range (5):\n",
    "    print(random.randint(1, 10))"
   ]
  },
  {
   "cell_type": "markdown",
   "metadata": {},
   "source": [
    "<h1>3 : Functions </h1>"
   ]
  },
  {
   "cell_type": "markdown",
   "metadata": {},
   "source": [
    "<ul><li> def statements </li>\n",
    "<li> Return values and return statements </li>\n",
    "</ul>"
   ]
  },
  {
   "cell_type": "code",
   "execution_count": 5,
   "metadata": {},
   "outputs": [
    {
     "name": "stdout",
     "output_type": "stream",
     "text": [
      "My reply is no\n"
     ]
    }
   ],
   "source": [
    "import random #Return values and print showcase\n",
    "def getAnswer(answerNumber):\n",
    "    if answerNumber == 1:   \n",
    "        return 'It is certain' \n",
    "    elif answerNumber == 2:   \n",
    "        return 'It is decidedly so'   \n",
    "    elif answerNumber == 3:     \n",
    "        return 'Yes'\n",
    "    elif answerNumber == 4:  \n",
    "        return 'Reply hazy try again'\n",
    "    elif answerNumber == 5:    \n",
    "        return 'Ask again later'   \n",
    "    elif answerNumber == 6:     \n",
    "        return 'Concentrate and ask again'  \n",
    "    elif answerNumber == 7:   \n",
    "        return 'My reply is no' \n",
    "    elif answerNumber == 8:     \n",
    "        return 'Outlook not so good'  \n",
    "    elif answerNumber == 9:  \n",
    "        return 'Very doubtful'\n",
    "\n",
    "r = random.randint(1, 9)\n",
    "fortune = getAnswer(r)\n",
    "print(fortune)"
   ]
  },
  {
   "cell_type": "markdown",
   "metadata": {},
   "source": [
    "<ul><li>The None value</li>\n",
    "<li>Keyword arguments and print()</li>\n",
    "<li>Local and Global scopes</li>\n",
    "<li>Exception Handling</li></ul>"
   ]
  },
  {
   "cell_type": "code",
   "execution_count": 6,
   "metadata": {},
   "outputs": [
    {
     "name": "stdout",
     "output_type": "stream",
     "text": [
      "21.0\n",
      "3.5\n",
      "Error: Invalid argument.\n",
      "None\n",
      "42.0\n"
     ]
    }
   ],
   "source": [
    "def spam(divideBy):   \n",
    "    try:  \n",
    "        return 42 / divideBy  \n",
    "    except ZeroDivisionError:  \n",
    "        print('Error: Invalid argument.')\n",
    "print(spam(2)) \n",
    "print(spam(12)) \n",
    "print(spam(0))\n",
    "print(spam(1))"
   ]
  },
  {
   "cell_type": "code",
   "execution_count": 7,
   "metadata": {},
   "outputs": [
    {
     "name": "stdout",
     "output_type": "stream",
     "text": [
      "21.0\n",
      "3.5\n",
      "Error: Invalid argument.\n"
     ]
    }
   ],
   "source": [
    "def spam(divideBy):    return 42 / divideBy\n",
    "\n",
    "try:\n",
    "    print(spam(2))   \n",
    "    print(spam(12))\n",
    "    print(spam(0))   \n",
    "    print(spam(1))\n",
    "except ZeroDivisionError: \n",
    "    print('Error: Invalid argument.')"
   ]
  },
  {
   "cell_type": "markdown",
   "metadata": {},
   "source": [
    "<h2>A Short Program: guess the number</h2>"
   ]
  },
  {
   "cell_type": "code",
   "execution_count": 1,
   "metadata": {},
   "outputs": [
    {
     "name": "stdout",
     "output_type": "stream",
     "text": [
      "I am thinking of a number between 1 and 20.\n",
      "Take a guess.\n",
      "13\n",
      "Your guess is too high.\n",
      "Take a guess.\n",
      "12\n",
      "Your guess is too high.\n",
      "Take a guess.\n",
      "14\n",
      "Your guess is too high.\n",
      "Take a guess.\n",
      "15\n",
      "Your guess is too high.\n",
      "Take a guess.\n",
      "17\n",
      "Your guess is too high.\n",
      "Take a guess.\n",
      "7\n",
      "Your guess is too low.\n",
      "Nope. The number I was thinking of was 9\n"
     ]
    }
   ],
   "source": [
    "# This is a guess the number game.\n",
    "import random \n",
    "secretNumber = random.randint(1, 20)\n",
    "print('I am thinking of a number between 1 and 20.')\n",
    "# Ask the player to guess 6 times. \n",
    "for guessesTaken in range(1, 7):\n",
    "    print('Take a guess.') \n",
    "    guess = int(input())\n",
    "    if guess < secretNumber: \n",
    "        print('Your guess is too low.')\n",
    "    elif guess > secretNumber:  \n",
    "        print('Your guess is too high.')\n",
    "    else:\n",
    "        break    # This condition is the correct guess!\n",
    "if guess == secretNumber:\n",
    "    print('Good job! You guessed my number in ' + str(guessesTaken) + ' guesses!') \n",
    "else:\n",
    "    print('Nope. The number I was thinking of was ' + str(secretNumber))"
   ]
  },
  {
   "cell_type": "markdown",
   "metadata": {},
   "source": [
    "<h2>Practice Projects</h2>\n",
    "Try to do at least one of those if not all.\n",
    "<ul><li>The collatz sequence</li>\n",
    "<li>Factorials</li>\n",
    "<li>Fibonacci</li></ul>"
   ]
  },
  {
   "cell_type": "code",
   "execution_count": null,
   "metadata": {},
   "outputs": [],
   "source": [
    "### The Collatz sequence\n",
    "Write a function named collatz() that has one parameter named number. If number is even, then collatz() should print number // 2 and return this value. If number is odd, then collatz() should print and return (3*number)+1. Then write a program that lets the user type in an integer and that keeps calling collatz() on that number until the function returns the value 1. (Amazingly enough, this sequence actually works for any integer—sooner or later, using this sequence, you’ll arrive at 1)"
   ]
  },
  {
   "cell_type": "markdown",
   "metadata": {},
   "source": [
    "### Factorials\n",
    "Write a function that returns the factorial of any positive integer input by the user  "
   ]
  },
  {
   "cell_type": "markdown",
   "metadata": {},
   "source": [
    "### The Fibonacci sequence\n",
    "The Fibonacci number at position n of the sequence f(n) is the sum of the previous two Fibonacci numbers f(n-1) and f(n-2). That is: f(n) = f(n-1) + f(n-2) with f(0)=f(1)=1\n",
    "\n",
    "Write a function that returns the Fibonacci number at any position n input by the user"
   ]
  },
  {
   "cell_type": "markdown",
   "metadata": {},
   "source": [
    "## Functional aspect"
   ]
  },
  {
   "cell_type": "code",
   "execution_count": 10,
   "metadata": {},
   "outputs": [
    {
     "name": "stdout",
     "output_type": "stream",
     "text": [
      "6.000100000012054\n",
      "12.000600010022566\n"
     ]
    }
   ],
   "source": [
    "def derivative(f):\n",
    "    tolerance = 0.0001\n",
    "    return (lambda x: ((f(x+tolerance) - f(x))/tolerance))\n",
    "\n",
    "def f(x):\n",
    "    return x**2\n",
    "\n",
    "g = lambda x: x**3\n",
    "\n",
    "print(derivative(f)(3))\n",
    "print(derivative(g)(2))"
   ]
  },
  {
   "cell_type": "markdown",
   "metadata": {},
   "source": [
    "<h1>4.1 : Lists</h1>"
   ]
  },
  {
   "cell_type": "code",
   "execution_count": 1,
   "metadata": {},
   "outputs": [
    {
     "data": {
      "text/plain": [
       "['cat', 'bat', 'rat', 'elephant']"
      ]
     },
     "execution_count": 1,
     "metadata": {},
     "output_type": "execute_result"
    }
   ],
   "source": [
    ">>> [1, 2, 3] \n",
    "[1, 2, 3] \n",
    ">>> ['cat', 'bat', 'rat', 'elephant']\n",
    "['cat', 'bat', 'rat', 'elephant'] \n",
    ">>> ['hello', 3.1416, True, None, 42]#To show that it can contain different types of items \n",
    "['hello', 3.1416, True, None, 42] \n",
    ">>> spam = ['cat', 'bat', 'rat', 'elephant'] \n",
    ">>> spam\n",
    "['cat', 'bat', 'rat', 'elephant']"
   ]
  },
  {
   "cell_type": "markdown",
   "metadata": {},
   "source": [
    "### Nesting lists"
   ]
  },
  {
   "cell_type": "code",
   "execution_count": 2,
   "metadata": {},
   "outputs": [
    {
     "data": {
      "text/plain": [
       "50"
      ]
     },
     "execution_count": 2,
     "metadata": {},
     "output_type": "execute_result"
    }
   ],
   "source": [
    ">>> spam = [['cat', 'bat'], [10, 20, 30, 40, 50]] \n",
    ">>> spam[0]\n",
    "['cat', 'bat'] \n",
    ">>> spam[0][1] \n",
    "'bat' \n",
    ">>> spam[1][4] \n",
    "50"
   ]
  },
  {
   "cell_type": "markdown",
   "metadata": {},
   "source": [
    "### Slicing"
   ]
  },
  {
   "cell_type": "code",
   "execution_count": 3,
   "metadata": {},
   "outputs": [
    {
     "data": {
      "text/plain": [
       "['cat', 'bat', 'rat', 'elephant']"
      ]
     },
     "execution_count": 3,
     "metadata": {},
     "output_type": "execute_result"
    }
   ],
   "source": [
    ">>> spam = ['cat', 'bat', 'rat', 'elephant'] \n",
    ">>> spam[0:4] \n",
    "['cat', 'bat', 'rat', 'elephant'] \n",
    ">>> spam[1:3] \n",
    "['bat', 'rat'] \n",
    ">>> spam[0:-1] \n",
    "['cat', 'bat', 'rat']\n",
    "\n",
    ">>> spam = ['cat', 'bat', 'rat', 'elephant'] \n",
    ">>> spam[:2] \n",
    "['cat', 'bat'] \n",
    ">>> spam[1:] \n",
    "['bat', 'rat', 'elephant']\n",
    ">>> spam[:] \n",
    "['cat', 'bat', 'rat', 'elephant']"
   ]
  },
  {
   "cell_type": "markdown",
   "metadata": {},
   "source": [
    "## List concatenation and replication"
   ]
  },
  {
   "cell_type": "code",
   "execution_count": 5,
   "metadata": {},
   "outputs": [
    {
     "data": {
      "text/plain": [
       "[1, 2, 3, 'A', 'B', 'C']"
      ]
     },
     "execution_count": 5,
     "metadata": {},
     "output_type": "execute_result"
    }
   ],
   "source": [
    ">>> [1, 2, 3] + ['A', 'B', 'C'] \n",
    "[1, 2, 3, 'A', 'B', 'C'] \n",
    ">>> ['X', 'Y', 'Z'] * 3\n",
    "['X', 'Y', 'Z', 'X', 'Y', 'Z', 'X', 'Y', 'Z'] \n",
    ">>> spam = [1, 2, 3] \n",
    ">>> spam = spam + ['A', 'B', 'C'] \n",
    ">>> spam\n",
    "[1, 2, 3, 'A', 'B', 'C']"
   ]
  },
  {
   "cell_type": "code",
   "execution_count": 9,
   "metadata": {
    "scrolled": true
   },
   "outputs": [
    {
     "name": "stdout",
     "output_type": "stream",
     "text": [
      "Enter the name of cat 1(Or enter nothing to stop.):\n",
      "hi\n",
      "The cat names are:\n",
      "  hi\n",
      "Enter the name of cat 2(Or enter nothing to stop.):\n",
      "world\n",
      "The cat names are:\n",
      "  hi\n",
      "  world\n",
      "Enter the name of cat 3(Or enter nothing to stop.):\n",
      "\n"
     ]
    }
   ],
   "source": [
    "catNames = [] \n",
    "while True:    \n",
    "    print('Enter the name of cat ' + str(len(catNames) + 1) +'(Or enter nothing to stop.):') \n",
    "    name = input()  \n",
    "    if name == '':   \n",
    "        break    \n",
    "    catNames = catNames + [name]  # list concatenation \n",
    "    print('The cat names are:') \n",
    "    for name in catNames:    \n",
    "        print('  ' + name)"
   ]
  },
  {
   "cell_type": "markdown",
   "metadata": {},
   "source": [
    "<h3> Using loops with lists</h3>"
   ]
  },
  {
   "cell_type": "code",
   "execution_count": 10,
   "metadata": {},
   "outputs": [
    {
     "name": "stdout",
     "output_type": "stream",
     "text": [
      "Index 0 in supplies is: pens\n",
      "Index 1 in supplies is: staplers\n",
      "Index 2 in supplies is: flame-throwers\n",
      "Index 3 in supplies is: binders\n"
     ]
    }
   ],
   "source": [
    ">>> supplies = ['pens', 'staplers', 'flame-throwers', 'binders'] \n",
    ">>> for i in range(len(supplies)): \n",
    "    print('Index ' + str(i) + ' in supplies is: ' + supplies[i])"
   ]
  },
  {
   "cell_type": "markdown",
   "metadata": {},
   "source": [
    "The in and not in operator"
   ]
  },
  {
   "cell_type": "code",
   "execution_count": 11,
   "metadata": {},
   "outputs": [
    {
     "data": {
      "text/plain": [
       "True"
      ]
     },
     "execution_count": 11,
     "metadata": {},
     "output_type": "execute_result"
    }
   ],
   "source": [
    ">>> 'howdy' in ['hello', 'hi', 'howdy', 'heyas'] \n",
    "True \n",
    ">>> spam = ['hello', 'hi', 'howdy', 'heyas'] \n",
    ">>> 'cat' in spam \n",
    "False \n",
    ">>> 'howdy' not in spam \n",
    "False \n",
    ">>> 'cat' not in spam \n",
    "True"
   ]
  },
  {
   "cell_type": "markdown",
   "metadata": {},
   "source": [
    "<h3>Adding Values to Lists with the append() and insert() Methods. And the sort() and remove() Methods</h3>"
   ]
  },
  {
   "cell_type": "code",
   "execution_count": null,
   "metadata": {},
   "outputs": [],
   "source": [
    ">>> spam = ['cat', 'dog', 'bat'] \n",
    ">>> spam.append('moose')\n",
    ">>> spam \n",
    "['cat', 'dog', 'bat', 'moose']"
   ]
  },
  {
   "cell_type": "code",
   "execution_count": null,
   "metadata": {},
   "outputs": [],
   "source": [
    ">>> spam = ['cat', 'dog', 'bat'] \n",
    ">>> spam.insert(1, 'chicken') \n",
    ">>> spam ['cat', 'chicken', 'dog', 'bat']"
   ]
  },
  {
   "cell_type": "code",
   "execution_count": null,
   "metadata": {},
   "outputs": [],
   "source": [
    ">>> spam = [2, 5, 3.14, 1, -7] \n",
    ">>> spam.sort() \n",
    ">>> spam [-7, 1, 2, 3.14, 5]"
   ]
  },
  {
   "cell_type": "markdown",
   "metadata": {},
   "source": [
    "<h1>4.2 : Tuples</h1>"
   ]
  },
  {
   "cell_type": "code",
   "execution_count": 13,
   "metadata": {},
   "outputs": [
    {
     "ename": "TypeError",
     "evalue": "'tuple' object does not support item assignment",
     "output_type": "error",
     "traceback": [
      "\u001b[1;31m---------------------------------------------------------------------------\u001b[0m",
      "\u001b[1;31mTypeError\u001b[0m                                 Traceback (most recent call last)",
      "\u001b[1;32m<ipython-input-13-8d2cb5685492>\u001b[0m in \u001b[0;36m<module>\u001b[1;34m()\u001b[0m\n\u001b[0;32m      1\u001b[0m \u001b[0meggs\u001b[0m \u001b[1;33m=\u001b[0m \u001b[1;33m(\u001b[0m\u001b[1;34m'hello'\u001b[0m\u001b[1;33m,\u001b[0m \u001b[1;36m42\u001b[0m\u001b[1;33m,\u001b[0m \u001b[1;36m0.5\u001b[0m\u001b[1;33m)\u001b[0m\u001b[1;33m\u001b[0m\u001b[0m\n\u001b[1;32m----> 2\u001b[1;33m \u001b[0meggs\u001b[0m\u001b[1;33m[\u001b[0m\u001b[1;36m1\u001b[0m\u001b[1;33m]\u001b[0m \u001b[1;33m=\u001b[0m \u001b[1;36m99\u001b[0m\u001b[1;33m\u001b[0m\u001b[0m\n\u001b[0m",
      "\u001b[1;31mTypeError\u001b[0m: 'tuple' object does not support item assignment"
     ]
    }
   ],
   "source": [
    ">>> eggs = ('hello', 42, 0.5) \n",
    ">>> eggs[1] = 99"
   ]
  },
  {
   "cell_type": "markdown",
   "metadata": {},
   "source": [
    "<h1>4.3 : Dictionaries </h1>"
   ]
  },
  {
   "cell_type": "code",
   "execution_count": 16,
   "metadata": {},
   "outputs": [
    {
     "name": "stdout",
     "output_type": "stream",
     "text": [
      "{'2': 'value 2', '3': 'value 3', '4': 'value 4', '5': 'value 5', '6': 'value 6', '7': 'value 7', '8': 'value 8', '9': 'value 9'}\n",
      "All the keys: dict_keys(['2', '3', '4', '5', '6', '7', '8', '9'])\n",
      "All the values: dict_values(['value 2', 'value 3', 'value 4', 'value 5', 'value 6', 'value 7', 'value 8', 'value 9'])\n"
     ]
    }
   ],
   "source": [
    "# Use for loop to add values\n",
    "d={}\n",
    "for index in range(2, 10):\n",
    "    d[str(index)] = (\"value %i\"%index)\n",
    "print(d)\n",
    "print(\"All the keys: \" + str(d.keys()))\n",
    "print(\"All the values: \" + str(d.values()))"
   ]
  },
  {
   "cell_type": "code",
   "execution_count": 24,
   "metadata": {},
   "outputs": [
    {
     "name": "stdout",
     "output_type": "stream",
     "text": [
      "{'2': 'value 2',\n",
      " '3': 'value 3',\n",
      " '4': 'value 4',\n",
      " '5': 'value 5',\n",
      " '6': 'value 6',\n",
      " '7': 'value 7',\n",
      " '8': 'value 8',\n",
      " '9': 'value 9'}\n"
     ]
    }
   ],
   "source": [
    "from pprint import pprint #This is a module containing a function called pretty print (pprint) that prints dictionaries in a better way \n",
    "d={}\n",
    "for index in range(2, 10):# This is the exact same dictinary as the previous example \n",
    "    d[str(index)] = (\"value %i\"%index)\n",
    "pprint(d)#compare how the values will be printed now compared to how they were printed before when we called print(d)"
   ]
  },
  {
   "cell_type": "markdown",
   "metadata": {},
   "source": [
    "### Nested dictionaries\n",
    "Notice how we nested these dictionaries here and how we called them.<br>\n",
    "Also try to analyze this program."
   ]
  },
  {
   "cell_type": "code",
   "execution_count": 19,
   "metadata": {},
   "outputs": [
    {
     "name": "stdout",
     "output_type": "stream",
     "text": [
      "Number of things being brought:\n",
      " - Apples         7\n",
      " - Cups           3\n",
      " - Cakes          0\n",
      " - Ham Sandwiches 3\n",
      " - Apple Pies     1\n"
     ]
    }
   ],
   "source": [
    "allGuests = {'Alice': {'apples': 5, 'pretzels': 12},       \n",
    "             'Bob': {'ham sandwiches': 3, 'apples': 2},    \n",
    "             'Carol': {'cups': 3, 'apple pies': 1}}\n",
    "def totalBrought(guests, item):  \n",
    "    numBrought = 0  \n",
    "    for k, v in guests.items(): \n",
    "        numBrought = numBrought + v.get(item, 0)    \n",
    "    return numBrought\n",
    "print('Number of things being brought:') \n",
    "print(' - Apples         ' + str(totalBrought(allGuests, 'apples'))) \n",
    "print(' - Cups           ' + str(totalBrought(allGuests, 'cups'))) \n",
    "print(' - Cakes          ' + str(totalBrought(allGuests, 'cakes'))) \n",
    "print(' - Ham Sandwiches ' + str(totalBrought(allGuests, 'ham sandwiches'))) \n",
    "print(' - Apple Pies     ' + str(totalBrought(allGuests, 'apple pies')))"
   ]
  },
  {
   "cell_type": "markdown",
   "metadata": {},
   "source": [
    "# 5 : Classes"
   ]
  },
  {
   "cell_type": "code",
   "execution_count": 26,
   "metadata": {},
   "outputs": [],
   "source": [
    "class Mapping:\n",
    "    def __init__(self, iterable):\n",
    "        self.items_list = []\n",
    "        self.__update(iterable)\n",
    "\n",
    "    def update(self, iterable):\n",
    "        for item in iterable:\n",
    "            self.items_list.append(item)\n",
    "\n",
    "class MappingSubclass(Mapping):\n",
    "\n",
    "    def update(self, keys, values):\n",
    "        # provides new signature for update()\n",
    "        # but does not break __init__()\n",
    "        for item in zip(keys, values):\n",
    "            self.items_list.append(item)"
   ]
  },
  {
   "cell_type": "code",
   "execution_count": null,
   "metadata": {},
   "outputs": [],
   "source": []
  }
 ],
 "metadata": {
  "kernelspec": {
   "display_name": "Python 3",
   "language": "python",
   "name": "python3"
  },
  "language_info": {
   "codemirror_mode": {
    "name": "ipython",
    "version": 3
   },
   "file_extension": ".py",
   "mimetype": "text/x-python",
   "name": "python",
   "nbconvert_exporter": "python",
   "pygments_lexer": "ipython3",
   "version": "3.6.5"
  }
 },
 "nbformat": 4,
 "nbformat_minor": 2
}
